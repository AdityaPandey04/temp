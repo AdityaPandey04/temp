{
  "nbformat": 4,
  "nbformat_minor": 0,
  "metadata": {
    "colab": {
      "provenance": []
    },
    "kernelspec": {
      "name": "python3",
      "display_name": "Python 3"
    },
    "language_info": {
      "name": "python"
    }
  },
  "cells": [
    {
      "cell_type": "code",
      "source": [
        "# We are using this library for sorting the dictionary\n",
        "from textwrap import shorten\n",
        "\n",
        "# Defining a Funtion for counting the most repeated 'words' in array\n",
        "def wordcount(string):\n",
        "  '''This function will take a Array as Input and will Count\n",
        "     each word and will return the count and length of Words'''\n",
        "\n",
        "  # Initializing a dictionary object as the count corresponding to the word will be saved in this\n",
        "  wordcount={}\n",
        "\n",
        "  # Now for counting words we have to split the array into 'words list'\n",
        "  wordlist = string.split()\n",
        "\n",
        "  # Now we are iterating each word from wordlist\n",
        "  for word in wordlist:\n",
        "\n",
        "    # Here we are checking if the word already exists in wordcount dictionary or not\n",
        "    if word not in wordcount:\n",
        "\n",
        "      # if not then the word will be given 1 as value as it is not repetetive\n",
        "      wordcount[word] = 1\n",
        "\n",
        "    else:\n",
        "\n",
        "      # here we are now adding +1 to the value of word if it already exists in wordcount which will give us all count of words\n",
        "      wordcount[word] += 1\n",
        "\n",
        "  # now we are extracting the most repeted word using list comprehetion. in wich if word is repeted more than 1 time will be provided as output    \n",
        "  most_repeted = [word for word,count in sorted(wordcount.items()) if count>1]\n",
        "\n",
        "  # Here we are converting the data into readable language\n",
        "  string = f'The most repeted words are \"{most_repeted[0]}\" and \"{most_repeted[1]}\" and one with the hieghest frequcy is \"{most_repeted[0]}\" and its lenght is \"{len(most_repeted[0])}\"'\n",
        "\n",
        "  # Now returning the data\n",
        "  return string\n",
        "\n",
        "\n",
        "# Now we are calling the fuction and giving it a string to work on\n",
        "testcase1 = wordcount('write write write all the number from from from from from from from from from from from from 1 to 100')\n",
        "testcase2 = wordcount('i went to the club blub slub and played ping pong ching chong ding dong ping, pong and ching chong were good')\n",
        "\n",
        "testcase2"
      ],
      "metadata": {
        "colab": {
          "base_uri": "https://localhost:8080/",
          "height": 36
        },
        "id": "psv9MTNuXI0n",
        "outputId": "218b9c32-2460-43bf-c1d0-a45e153b89a6"
      },
      "execution_count": 127,
      "outputs": [
        {
          "output_type": "execute_result",
          "data": {
            "text/plain": [
              "'The most repeted words are \"and\" and \"ching\" and one with the hieghest frequcy is \"and\" and its lenght is \"3\"'"
            ],
            "application/vnd.google.colaboratory.intrinsic+json": {
              "type": "string"
            }
          },
          "metadata": {},
          "execution_count": 127
        }
      ]
    },
    {
      "cell_type": "markdown",
      "source": [
        "## **Now we are using \"collections\" library for the same task**"
      ],
      "metadata": {
        "id": "Img6By9pXQVx"
      }
    },
    {
      "cell_type": "code",
      "execution_count": 133,
      "metadata": {
        "colab": {
          "base_uri": "https://localhost:8080/",
          "height": 54
        },
        "id": "JYMwOHjy5BNb",
        "outputId": "c665caac-6340-4d29-a5d9-5a92495d76ba"
      },
      "outputs": [
        {
          "output_type": "execute_result",
          "data": {
            "text/plain": [
              "'The most repeted word is \"and\" its lenght is \"3\" and its Frequency is \"2\" as for The most repeted letter its \" \" its length is \"1\" and its Frequency is \"21'"
            ],
            "application/vnd.google.colaboratory.intrinsic+json": {
              "type": "string"
            }
          },
          "metadata": {},
          "execution_count": 133
        }
      ],
      "source": [
        "# This time we are using a library name collections as it is predefined and ready to use\n",
        "import collections\n",
        "\n",
        "# Defining a Funtion for counting the most repeated 'words' and 'letters'\n",
        "def Countword(string):\n",
        "  '''This function will take a Array as Input and will Count\n",
        "     Each word and letter and will return the count of Both'''\n",
        "\n",
        "  # For counting words we have to split the array into 'words list' else fuction will count it as 'letters'\n",
        "  words = string.split()\n",
        "\n",
        "  # Here we are counting the number of words and its frequency using the Counter function of collection library\n",
        "  wordc = collections.Counter(words)\n",
        "\n",
        "  # Now we are counting the individual letters of array\n",
        "  letterc = collections.Counter(string)\n",
        "\n",
        "  # Here we are using list comprehetion to extract the most repeted word in the array and are using slicing method on list to get 1st number which is most repeted\n",
        "  wordcount = [word+' '+str(count) for word, count in wordc.most_common() if count > 1][0]\n",
        "\n",
        "  # Now we are doing same thing as above but with letters this time\n",
        "  lettercount = [letter+':'+str(count) for letter, count in letterc.most_common() if count > 1][0]\n",
        "\n",
        "  # Here we are writing a statement for the count, length and word in laymens term so anyone can understand and with both of them[letters and words]\n",
        "  word = f'The most repeted word is \"{wordcount.split()[0]}\" its lenght is \"{len(wordcount.split()[0])}\" and its Frequency is \"{wordcount.split()[1]}\"'\n",
        "  letter = f'as for The most repeted letter its \"{lettercount.split(\":\")[0]}\" its length is \"{len(lettercount.split(\":\")[0])}\" and its Frequency is \"{lettercount.split(\":\")[1]}'\n",
        "\n",
        "  # finally we are Returning the the output (didn't want answer in same line so using 'print + \\n')\n",
        "  return word+' '+letter\n",
        "\n",
        "\n",
        "# This function will ask the input in popup | Can Be enabled by removing the first and last three quotes\n",
        "'''Countword(str(input(\"Enter You'r Text here:   \")))'''\n",
        "\n",
        "# Now we are calling the above defined fuction and giving it the Hardcode values it will return the count output \n",
        "testcase1 = Countword('write write write all the number from from from from from from from from from from from from 1 to 100')\n",
        "testcase2 = Countword('i went to the club blub slub and played ping pong ching chong ding dong ping, pong and ching chong were good')\n",
        "\n",
        "testcase2"
      ]
    },
    {
      "cell_type": "code",
      "source": [],
      "metadata": {
        "id": "PdKcg98YwRvE"
      },
      "execution_count": null,
      "outputs": []
    }
  ]
}